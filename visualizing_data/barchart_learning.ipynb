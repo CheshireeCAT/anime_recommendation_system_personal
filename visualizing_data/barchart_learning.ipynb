{
  "nbformat": 4,
  "nbformat_minor": 0,
  "metadata": {
    "colab": {
      "name": "barchart_learning.ipynb",
      "provenance": [],
      "collapsed_sections": [],
      "authorship_tag": "ABX9TyPX+6LXVZG1XfsHWmOagDs4",
      "include_colab_link": true
    },
    "kernelspec": {
      "name": "python3",
      "display_name": "Python 3"
    },
    "language_info": {
      "name": "python"
    }
  },
  "cells": [
    {
      "cell_type": "markdown",
      "metadata": {
        "id": "view-in-github",
        "colab_type": "text"
      },
      "source": [
        "<a href=\"https://colab.research.google.com/github/CheshireeCAT/anime_recommendation_system_personal/blob/master/visualizing_data/barchart_learning.ipynb\" target=\"_parent\"><img src=\"https://colab.research.google.com/assets/colab-badge.svg\" alt=\"Open In Colab\"/></a>"
      ]
    },
    {
      "cell_type": "markdown",
      "source": [
        "Bar chart learning matplot lib"
      ],
      "metadata": {
        "id": "hkLslTCXmUg6"
      }
    },
    {
      "cell_type": "markdown",
      "source": [
        "- Basics of matplotlib bar chart"
      ],
      "metadata": {
        "id": "nxNFVZ4tnDNF"
      }
    },
    {
      "cell_type": "code",
      "execution_count": 3,
      "metadata": {
        "id": "dRby40G6l6ms"
      },
      "outputs": [],
      "source": [
        "from matplotlib import pyplot as plt\n",
        "\n",
        "# assume data for creating a bar chart is \n",
        "\n",
        "movies = [\"A\", \"B\", \"C\", \"D\"]\n",
        "num_osc = [5, 11, 3, 8]"
      ]
    },
    {
      "cell_type": "code",
      "source": [
        "plt.bar(range(len(movies)), num_osc)\n",
        "plt.title(\"moves and osc\")\n",
        "plt.ylabel(\"# no of acadamy awards won\")\n",
        "plt.xticks(range(len(movies)), movies)\n",
        "plt.show()"
      ],
      "metadata": {
        "colab": {
          "base_uri": "https://localhost:8080/",
          "height": 281
        },
        "id": "pn7POeCDntPy",
        "outputId": "34f4008c-7735-4e3a-9052-5dbb6f421304"
      },
      "execution_count": 5,
      "outputs": [
        {
          "output_type": "display_data",
          "data": {
            "image/png": "[encoded data removed]",
            "text/plain": [
              "<Figure size 432x288 with 1 Axes>"
            ]
          },
          "metadata": {
            "needs_background": "light"
          }
        }
      ]
    },
    {
      "cell_type": "markdown",
      "source": [
        "## plotting 2 graphs at once (not using subplot)"
      ],
      "metadata": {
        "id": "8mTzPlg6rtDW"
      }
    },
    {
      "cell_type": "markdown",
      "source": [
        "showing that axis is imp when it comes to graphs "
      ],
      "metadata": {
        "id": "ahy6v7PQtP-Q"
      }
    },
    {
      "cell_type": "code",
      "source": [
        "mentions = [500, 520]\n",
        "year = [2011, 2012]\n",
        "\n",
        "plt.figure(1)\n",
        "plt.bar(year, mentions, 0.8)\n",
        "plt.title(\"og axis\")\n",
        "plt.ylabel(\"no of mentions\")\n",
        "plt.xticks(year)\n",
        "\n",
        "plt.figure(2)\n",
        "plt.bar(year, mentions, 0.8)\n",
        "plt.title(\"manupulated axis\")\n",
        "plt.ylabel(\"no of mentions\")\n",
        "plt.xticks(year)\n",
        "plt.axis([2010.5, 2012.5, 499, 530])\n",
        "\n",
        "plt.show()"
      ],
      "metadata": {
        "colab": {
          "base_uri": "https://localhost:8080/",
          "height": 545
        },
        "id": "KpWH2zEyo4si",
        "outputId": "03fc5fa4-9b44-4d82-fe8e-4bebcf4eafd7"
      },
      "execution_count": 8,
      "outputs": [
        {
          "output_type": "display_data",
          "data": {
            "image/png": "[encoded data removed]",
            "text/plain": [
              "<Figure size 432x288 with 1 Axes>"
            ]
          },
          "metadata": {
            "needs_background": "light"
          }
        },
        {
          "output_type": "display_data",
          "data": {
            "image/png": "[encoded data removed]",
            "text/plain": [
              "<Figure size 432x288 with 1 Axes>"
            ]
          },
          "metadata": {
            "needs_background": "light"
          }
        }
      ]
    },
    {
      "cell_type": "markdown",
      "source": [
        "## subplots in matplot lib"
      ],
      "metadata": {
        "id": "_AMr0oz7u0Li"
      }
    },
    {
      "cell_type": "code",
      "source": [
        "fig, (ax1, ax2) = plt.subplots(2, 1)\n",
        "fig.suptitle(\"A tale of 2 subplot\")\n",
        "\n",
        "ax1.bar(year, mentions, 0.8)\n",
        "ax1.set_ylabel(\"no of mentions\")\n",
        "ax1.set_xticks(year)\n",
        "\n",
        "ax2.bar(year, mentions, 0.8)\n",
        "ax2.set_ylabel(\"no of mentions\")\n",
        "ax2.set_xticks(year)\n",
        "ax2.set_ylim(499, 510)\n",
        "\n",
        "plt.show()"
      ],
      "metadata": {
        "colab": {
          "base_uri": "https://localhost:8080/",
          "height": 294
        },
        "id": "ptlgdtqjrQLt",
        "outputId": "976f764b-841d-4b30-f538-c4c0c8abedff"
      },
      "execution_count": 9,
      "outputs": [
        {
          "output_type": "display_data",
          "data": {
            "image/png": "[encoded data removed]",
            "text/plain": [
              "<Figure size 432x288 with 2 Axes>"
            ]
          },
          "metadata": {
            "needs_background": "light"
          }
        }
      ]
    }
  ]
}